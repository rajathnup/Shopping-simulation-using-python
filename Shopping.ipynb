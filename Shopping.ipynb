{
  "cells": [
    {
      "cell_type": "code",
      "execution_count": null,
      "metadata": {
        "id": "gCfjUhuQC5G8"
      },
      "outputs": [],
      "source": [
        "import sqlite3\n",
        "import re\n",
        "import pandas as pd"
      ]
    },
    {
      "cell_type": "code",
      "execution_count": null,
      "metadata": {
        "id": "pq7AYaxOIr-X"
      },
      "outputs": [],
      "source": [
        "connection=sqlite3.connect(\"Information.db\")\n",
        "c=connection.cursor()"
      ]
    },
    {
      "cell_type": "code",
      "execution_count": null,
      "metadata": {
        "colab": {
          "base_uri": "https://localhost:8080/"
        },
        "id": "iH1hsRYgJDit",
        "outputId": "55d128cf-81e9-461f-9075-a069fe8a37c2"
      },
      "outputs": [
        {
          "output_type": "execute_result",
          "data": {
            "text/plain": [
              "<sqlite3.Cursor at 0x7f724edd7ea0>"
            ]
          },
          "metadata": {},
          "execution_count": 3
        }
      ],
      "source": [
        "c.execute(\"\"\"CREATE TABLE IF NOT EXISTS users(\n",
        "   username Text ,\n",
        "   fname TEXT,\n",
        "   lname TEXT,\n",
        "   gender TEXT,\n",
        "   password text,\n",
        "   phoneno int);\n",
        "\"\"\")"
      ]
    },
    {
      "cell_type": "code",
      "execution_count": null,
      "metadata": {
        "colab": {
          "base_uri": "https://localhost:8080/"
        },
        "id": "R50AB2S9Sg1o",
        "outputId": "3005c9b5-5a63-404e-83a7-8e0a312c5957"
      },
      "outputs": [
        {
          "output_type": "execute_result",
          "data": {
            "text/plain": [
              "<sqlite3.Cursor at 0x7f724edd7ea0>"
            ]
          },
          "metadata": {},
          "execution_count": 4
        }
      ],
      "source": [
        "c.execute(\"\"\"CREATE TABLE IF NOT EXISTS adoptnow(\n",
        "   breedname Text ,\n",
        "   price int\n",
        "   );\n",
        "\"\"\")\n",
        "\n"
      ]
    },
    {
      "cell_type": "code",
      "execution_count": null,
      "metadata": {
        "colab": {
          "base_uri": "https://localhost:8080/"
        },
        "id": "ehlTE--eJJbx",
        "outputId": "99bb4de6-7785-4ac8-896b-5d2140ade34d"
      },
      "outputs": [
        {
          "output_type": "execute_result",
          "data": {
            "text/plain": [
              "<sqlite3.Cursor at 0x7f724edd7ea0>"
            ]
          },
          "metadata": {},
          "execution_count": 5
        }
      ],
      "source": [
        "c.execute(\"\"\"CREATE TABLE IF NOT EXISTS admin(\n",
        "   username TEXT PRIMARY KEY,\n",
        "   password Text);\n",
        "\"\"\")"
      ]
    },
    {
      "cell_type": "code",
      "execution_count": null,
      "metadata": {
        "colab": {
          "base_uri": "https://localhost:8080/"
        },
        "id": "hbZ09QouUpe-",
        "outputId": "811c7247-2bd9-43c9-d7f8-9654854d21da"
      },
      "outputs": [
        {
          "output_type": "execute_result",
          "data": {
            "text/plain": [
              "<sqlite3.Cursor at 0x7f724edd7ea0>"
            ]
          },
          "metadata": {},
          "execution_count": 6
        }
      ],
      "source": [
        "pets=([\"German shepered\", 2450], \n",
        "      [\"Labrador\", 1365], \n",
        "      [\"Husky\", 2010], \n",
        "      [\"Dober man\", 2900],\n",
        "      [\"Golden retriever\", 1650], \n",
        "      [\"Persian cat\", 1450],\n",
        "      [\"Bengal cat\", 2000],\n",
        "      [\"Siberian cat\", 1600],\n",
        "      [\"Sthynx cat\", 2300],\n",
        "      [\"Bombay cat\", 1750])\n",
        "\n",
        "c.executemany(\"INSERT INTO adoptnow VALUES(?,?);\", pets)"
      ]
    },
    {
      "cell_type": "code",
      "execution_count": null,
      "metadata": {
        "id": "Im_GvQW1KDYB"
      },
      "outputs": [],
      "source": [
        "def uregister():\n",
        "  \n",
        "  fname=input(\"Enter your first name:\")\n",
        "  lname=input(\"Enter your last name:\")\n",
        "  uname=input(\"Enter the Userame:\")\n",
        "  pnum=input(\"Enter your phone number(10 digits):\")\n",
        "  while not phonevalid(pnum):\n",
        "    pnum=input(\"Enter valid phone number(10 digits):\")\n",
        "  gender=input(\"Enter your gender(M/F):\")\n",
        "  passwd=input(\"Enter the password:\")\n",
        "  more_users=[(uname, fname, lname, gender, passwd, int(pnum))]\n",
        "  c.executemany(\"INSERT INTO users VALUES(?,?,?,?,?,?);\", more_users)\n",
        "  print(\"You can login here:\\n\")\n",
        "  ulogin()\n",
        "\n",
        "\n",
        "\n",
        "\n",
        "\n"
      ]
    },
    {
      "cell_type": "code",
      "source": [
        "def phonevalid(pnum):\n",
        "  Pattern = re.compile(\"(0|91)?[7-9][0-9]{9}\")\n",
        "  return Pattern.match(pnum)"
      ],
      "metadata": {
        "id": "UZoBKPsKcamV"
      },
      "execution_count": null,
      "outputs": []
    },
    {
      "cell_type": "code",
      "execution_count": null,
      "metadata": {
        "id": "KTTNu7DvTfWo"
      },
      "outputs": [],
      "source": [
        "def aregister():\n",
        "  s=\"12345\"\n",
        "\n",
        "  security_code=input(\"Enter your security code:\")\n",
        "  if s!=security_code:\n",
        "    print(\"Wrong Code, please ask the provider for the code\")\n",
        "    aregister()\n",
        "  if s==security_code:\n",
        "      uname=input(\"Enter your username:\")\n",
        "      passwd=input(\"Enter your password:\")\n",
        "      more_admin=[(uname,passwd)]\n",
        "      c.executemany(\"INSERT INTO admin VALUES(?,?);\", more_admin)\n",
        "      print(\"You can login here:\\n\")\n",
        "      alogin()\n",
        " "
      ]
    },
    {
      "cell_type": "code",
      "execution_count": null,
      "metadata": {
        "id": "OK0FYK6ec0zC"
      },
      "outputs": [],
      "source": [
        "def uvalidate(uname, passwd):\n",
        "  count=0\n",
        "  c.execute(\"SELECT * FROM users;\")\n",
        "  items=c.fetchall()\n",
        "  for i in items:\n",
        "    if i[0]==uname and i[4]==passwd:\n",
        "      count+=1\n",
        "    else:\n",
        "       count=0\n",
        "  return count"
      ]
    },
    {
      "cell_type": "code",
      "execution_count": null,
      "metadata": {
        "id": "x1YeRTjlMawS"
      },
      "outputs": [],
      "source": [
        ""
      ]
    },
    {
      "cell_type": "code",
      "execution_count": null,
      "metadata": {
        "id": "oBTcTlDjRtBw"
      },
      "outputs": [],
      "source": [
        "def dispinfo():\n",
        "  print(\"Know about your type which you want to adopt........\\n\\n\")\n",
        "  print(\"German shepered-> German Shepherd Dog is a large, agile, muscular dog of noble character and high intelligence.\\n\")\n",
        "  print(\"Labrador-> The sweet-faced, lovable Labrador Retriever is America's most popular dog breed. They are friendly, outgoing, and high-spirited companions.\\n\")\n",
        "  print(\"Husky-> Husky, a thickly coated, compact sled dog of medium size and great endurance, was developed to work in packs, pulling light loads at moderate speeds over vast frozen expanses.\\n\")\n",
        "  print(\"Doberman-> Sleek and powerful, possessing both a magnificent physique and keen intelligence, the Doberman is one of dogkind's noblemen.\\n\")\n",
        "  print(\"Golden Retriever-> The Golden Retriever, an exuberant Scottish gundog of great beauty, stands among America's most popular dog breeds. They are serious workers at hunting and field work\\n\")\n",
        "  print(\"Persian cat-> The Persian cat is a long-haired breed of cat characterized by its round face and short muzzle.\\n\")\n",
        "  print(\"Bengal cat-> The Bengal cat is highly active and highly intelligent. This makes him fun to live with, but he can sometimes be challenging.\\n\")\n",
        "  print(\"Siberian cat-> Siberian cats are lovable and loyal family companions who get along well with children and other pets.\\n\")\n",
        "  print(\"Sphynx cat-> Sphynx cats are famous for their (nearly) nude appearance, but there is so much more to these charming, intelligent, and affectionate cats.\\n\")\n",
        "  print(\"Bombay cat-> The Bombay is a medium-size cat, well-balanced, friendly, alert, and outgoing; muscular and having a surprising weight for their size.\\n\\n\")"
      ]
    },
    {
      "cell_type": "code",
      "execution_count": null,
      "metadata": {
        "id": "pg8HZldpfvBp"
      },
      "outputs": [],
      "source": [
        "list_price=[]\n",
        "list_name=[]\n",
        "def uhome(s):\n",
        "  print(\"************************************************************************************************************************************************************************************************\")\n",
        "  print(\"     **************************************************************************************************************************************************************************************\")\n",
        "  print(\"          ****************************************************************************************************************************************************************************\")\n",
        "  print(\"                                                               Hello \"+s+\", Welcome to Paws For You\")\n",
        "  print(\"\\n\\n\")\n",
        "  print(\"\"\"                   Many dogs and cats are orphaned by their owners which end up on the street as stray, As a result they are deprived of proper shelter and food. On the contrary,\n",
        "                   there are people who want to have  a pet of their own but can’t afford one. We shelter dogs and cats and try to act as an intermediate between the strays and \n",
        "                   with those who want to have a pet. Adopting from our organisation will get a pet for a minimal price.\n",
        "\n",
        "                   When we take in the strays to our shelters, we take good care of them and feed them until a pet lover finds us.\"\"\")\n",
        "  print(\"\\nSwitch to other sections of the page\\n\")\n",
        "  option=\"0\"\n",
        "  while not (option==\"-1\"):\n",
        "    print(\"\\n1:Know your type\\n2:Adopt Now\\n3:Become a patreon\\n4:Logout\\n\")\n",
        "    option=input()\n",
        "    if option=='1':\n",
        "      dispinfo()\n",
        "    elif option=='2':\n",
        "      adopt(list_name,list_price)\n",
        "        \n",
        "    elif option=='3':\n",
        "      print(\"\\nThank you!\\n  We will get back to you for further details\")\n",
        "\n",
        "    elif option=='4':\n",
        "      print(\"\\nThank you for spending your precious time!!!\\n We wish to see you again\\n\\n\")\n",
        "      option=\"-1\"\n",
        "      list_name.clear()\n",
        "      list_price.clear()\n",
        "      login_reg()\n",
        "\n",
        "    else:\n",
        "      print(\"Invalid Option\")  \n",
        "\n",
        "                    \n",
        "                  \n",
        "                   \n",
        "                   \n",
        "\n",
        "                   "
      ]
    },
    {
      "cell_type": "code",
      "execution_count": null,
      "metadata": {
        "id": "SCWTTXweaVu8"
      },
      "outputs": [],
      "source": [
        "\n",
        "def ulogin():\n",
        "  global uloginname\n",
        "  uloginname=input(\"Enter username:\")\n",
        "  passwd=input(\"Enter password:\")\n",
        "  \n",
        "  if uvalidate(uloginname, passwd)==1:\n",
        "    print(\"Login sucessful\")\n",
        "    uhome(uloginname)\n",
        "  else:\n",
        "    print(\"Invalid username/password. Please enter again\")\n",
        "    ulogin()\n",
        "    \n"
      ]
    },
    {
      "cell_type": "code",
      "source": [
        "def adopt(list_name,list_price):\n",
        "  \n",
        "  c.execute(\"SELECT * FROM adoptnow;\")\n",
        "  items=c.fetchall()\n",
        "  k=len(items)\n",
        "  print(\"\\nBreeds available\")\n",
        "  for i in items:\n",
        "    print(\"Name:\"+i[0]+\"\\nPrice:\",i[1],\"\\n\")\n",
        "  \n",
        "\n",
        "  print(\"Your adoption list:\",list_name)\n",
        "  print(\"\\nTotal price:\", sum(list_price))\n",
        "  conform=input(\"\\n1:Continue adding\\n2:Go to payment\\n3:Go to home\")\n",
        "  if conform == '1':\n",
        "    price=0\n",
        "    s=input(\"\\nEnter the name of the breed you wish to adopt: \")\n",
        "    breed_count=0\n",
        "    for i in items: \n",
        "      if i[0]==s:\n",
        "        price=price+i[1]\n",
        "        print(\"Price of \"+i[0]+\" is \",price,\"\\n\")\n",
        "        list_name.append(i[0])\n",
        "        list_price.append(i[1])\n",
        "        breed_count=1\n",
        "        break\n",
        "    if breed_count==0:\n",
        "      print(\"Selected breed not available\")\n",
        "\n",
        "  elif conform == '2':\n",
        "    amount=sum(list_price)\n",
        "    upi_id=input(\"Enter the UPI ID\")\n",
        "    while not valid(upi_id):\n",
        "        upi_id=input(\"Enter valid UPI ID:\")\n",
        "    print(\"\\nUPI ID verified successfully\\n\")\n",
        "    upi_pin=input(\"\\nEnter a valid PIN\")\n",
        "    while not validpin(upi_pin):\n",
        "        upi_pin=input(\"Enter valid UPI PIN(6 digits):\")\n",
        "    amt=int(input(\"Enter the amount to be paid:\"))    \n",
        "    if amount==amt:\n",
        "      print(\"Payment suscessful !!\")\n",
        "      fd=open(\"payment.txt\",\"a\")\n",
        "      \n",
        "      s=\"NAME: \"+uloginname+\"\\nNAME OF THE BREED: \"+str(list_name)+\" \"+\"\\nTOTAL AMOUNT PAID:\"+str(amount)+\"\\n**********************************************\\n\"\n",
        "      fd.write(s)\n",
        "      fd.close()\n",
        "      list_name.clear()\n",
        "      list_price.clear()\n",
        "    else:\n",
        "      print(\"Payment unsuccessfull\")\n",
        "      adopt(list_name,list_price)\n",
        "  else:\n",
        "    return\n",
        "\n",
        "\n",
        "def valid(upi_id):\n",
        "  Pattern = re.compile(\"^[\\w\\.\\-_]{3,}@[a-zA-Z]{3,}\")\n",
        "  return Pattern.match(upi_id)\n",
        "\n",
        "def validpin(upi_pin):\n",
        "  if len(upi_pin)==6:\n",
        "    return True\n",
        "  else:\n",
        "    return False  "
      ],
      "metadata": {
        "id": "o7Z_D5nL8d_R"
      },
      "execution_count": null,
      "outputs": []
    },
    {
      "cell_type": "code",
      "execution_count": null,
      "metadata": {
        "id": "tsmak1v3a75h"
      },
      "outputs": [],
      "source": [
        "def avalidate(uname, passwd):\n",
        "  count=0\n",
        "  c.execute(\"SELECT * FROM admin;\")\n",
        "  items=c.fetchall()\n",
        "  for i in items:\n",
        "    if i[0]==uname and i[1]==passwd:\n",
        "      count+=1\n",
        "    else:\n",
        "       count=0\n",
        "  return count"
      ]
    },
    {
      "cell_type": "code",
      "execution_count": null,
      "metadata": {
        "id": "03r0DwQ_IFE2"
      },
      "outputs": [],
      "source": [
        "def alogin():\n",
        "  uname=input(\"Enter username:\")\n",
        "  passwd=input(\"Enter password:\")\n",
        "  if avalidate(uname, passwd)==1:\n",
        "    print(\"Login sucessful\")\n",
        "    ahome(uname)\n",
        "  else:\n",
        "    print(\"Invalid username/password. Please enter again\")\n",
        "    alogin()\n",
        "    \n"
      ]
    },
    {
      "cell_type": "code",
      "execution_count": null,
      "metadata": {
        "id": "CKkF6gELbaO6"
      },
      "outputs": [],
      "source": [
        "def ahome(s):\n",
        "  print(\"************************************************************************************************************************************************************************************************\")\n",
        "  print(\"     **************************************************************************************************************************************************************************************\")\n",
        "  print(\"          ****************************************************************************************************************************************************************************\")\n",
        "  print(\"                                                               Hello \"+s+\", Welcome to Paws For You\")\n",
        "  print(\"\\n\\n\")\n",
        "  option=\"0\"\n",
        "  while option!=\"-1\":\n",
        "    print(\"\\n1:Add the details to DB\\n2:Delete the details to DB\\n3:Display Breeds\\n4:Display Sale History\\n5:Exit\\n\")\n",
        "    option=input()\n",
        "    if option=='1':\n",
        "      name=input(\"Enter the name of the breed\")\n",
        "      price=int(input(\"Enter the name of the breed\"))\n",
        "      pet=([name,price])\n",
        "      c.executemany(\"insert into adoptnow values(?,?);\",(pet,))\n",
        "      print(\"Details added successfully\")\n",
        "    elif option=='2':\n",
        "      name=input(\"Enter the name of the breed\")\n",
        "      c.execute(\"delete from adoptnow where breedname=(?);\",(name,))\n",
        "      print(\"Details deleted successfully\")\n",
        "    elif option=='3':\n",
        "      list_temp=[]\n",
        "      c.execute(\"select * from adoptnow\")\n",
        "      items=c.fetchall()\n",
        "      for i in items:\n",
        "        list_temp.append(i)\n",
        "        df = pd.DataFrame(list_temp, columns = ['Breed', 'Price'])\n",
        "      print(df)  \n",
        "    elif option=='4':\n",
        "      fd=open(\"payment.txt\",\"r\")\n",
        "      print(fd.read())  \n",
        "    elif option=='5':\n",
        "      option='-1'\n",
        "      return '-1'\n",
        "    else:\n",
        "      print(\"Invalid option\")  \n"
      ]
    },
    {
      "cell_type": "code",
      "execution_count": null,
      "metadata": {
        "id": "8lsSZHtgUWv4",
        "colab": {
          "base_uri": "https://localhost:8080/"
        },
        "outputId": "485fda1c-726e-4158-9f59-3c593256b0db"
      },
      "outputs": [
        {
          "name": "stdout",
          "output_type": "stream",
          "text": [
            "Hello, Do you wish to login or signup?\n",
            "Enter your option\n",
            "1:Register\n",
            "2:Login\n",
            "3:Exit 1\n",
            "Do you wish to signup as admin or user?\n",
            "Enter your option\n",
            "1:User Register\n",
            "2:Admin Register 1\n",
            "Enter your first name:Rajath\n",
            "Enter your last name:K\n",
            "Enter the Userame:rajathuser\n",
            "Enter your phone number(10 digits):7813814546\n",
            "Enter your gender(M/F):M\n",
            "Enter the password:rajathuser\n",
            "You can login here:\n",
            "\n",
            "Enter username:rajathuser\n",
            "Enter password:rajathuser\n",
            "Login sucessful\n",
            "************************************************************************************************************************************************************************************************\n",
            "     **************************************************************************************************************************************************************************************\n",
            "          ****************************************************************************************************************************************************************************\n",
            "                                                               Hello rajathuser, Welcome to Paws For You\n",
            "\n",
            "\n",
            "\n",
            "                   Many dogs and cats are orphaned by their owners which end up on the street as stray, As a result they are deprived of proper shelter and food. On the contrary,\n",
            "                   there are people who want to have  a pet of their own but can’t afford one. We shelter dogs and cats and try to act as an intermediate between the strays and \n",
            "                   with those who want to have a pet. Adopting from our organisation will get a pet for a minimal price.\n",
            "\n",
            "                   When we take in the strays to our shelters, we take good care of them and feed them until a pet lover finds us.\n",
            "\n",
            "Switch to other sections of the page\n",
            "\n",
            "\n",
            "1:Know your type\n",
            "2:Adopt Now\n",
            "3:Become a patreon\n",
            "4:Logout\n",
            "\n",
            "1\n",
            "Know about your type which you want to adopt........\n",
            "\n",
            "\n",
            "German shepered-> German Shepherd Dog is a large, agile, muscular dog of noble character and high intelligence.\n",
            "\n",
            "Labrador-> The sweet-faced, lovable Labrador Retriever is America's most popular dog breed. They are friendly, outgoing, and high-spirited companions.\n",
            "\n",
            "Husky-> Husky, a thickly coated, compact sled dog of medium size and great endurance, was developed to work in packs, pulling light loads at moderate speeds over vast frozen expanses.\n",
            "\n",
            "Doberman-> Sleek and powerful, possessing both a magnificent physique and keen intelligence, the Doberman is one of dogkind's noblemen.\n",
            "\n",
            "Golden Retriever-> The Golden Retriever, an exuberant Scottish gundog of great beauty, stands among America's most popular dog breeds. They are serious workers at hunting and field work\n",
            "\n",
            "Persian cat-> The Persian cat is a long-haired breed of cat characterized by its round face and short muzzle.\n",
            "\n",
            "Bengal cat-> The Bengal cat is highly active and highly intelligent. This makes him fun to live with, but he can sometimes be challenging.\n",
            "\n",
            "Siberian cat-> Siberian cats are lovable and loyal family companions who get along well with children and other pets.\n",
            "\n",
            "Sphynx cat-> Sphynx cats are famous for their (nearly) nude appearance, but there is so much more to these charming, intelligent, and affectionate cats.\n",
            "\n",
            "Bombay cat-> The Bombay is a medium-size cat, well-balanced, friendly, alert, and outgoing; muscular and having a surprising weight for their size.\n",
            "\n",
            "\n",
            "\n",
            "1:Know your type\n",
            "2:Adopt Now\n",
            "3:Become a patreon\n",
            "4:Logout\n",
            "\n",
            "2\n",
            "\n",
            "Breeds available\n",
            "Name:German shepered\n",
            "Price: 2450 \n",
            "\n",
            "Name:Labrador\n",
            "Price: 1365 \n",
            "\n",
            "Name:Husky\n",
            "Price: 2010 \n",
            "\n",
            "Name:Dober man\n",
            "Price: 2900 \n",
            "\n",
            "Name:Golden retriever\n",
            "Price: 1650 \n",
            "\n",
            "Name:Persian cat\n",
            "Price: 1450 \n",
            "\n",
            "Name:Bengal cat\n",
            "Price: 2000 \n",
            "\n",
            "Name:Siberian cat\n",
            "Price: 1600 \n",
            "\n",
            "Name:Sthynx cat\n",
            "Price: 2300 \n",
            "\n",
            "Name:Bombay cat\n",
            "Price: 1750 \n",
            "\n",
            "Your adoption list: []\n",
            "\n",
            "Total price: 0\n",
            "\n",
            "1:Continue adding\n",
            "2:Go to payment\n",
            "3:Go to home1\n",
            "\n",
            "Enter the name of the breed you wish to adopt: Bombay cat\n",
            "Price of Bombay cat is  1750 \n",
            "\n",
            "\n",
            "1:Know your type\n",
            "2:Adopt Now\n",
            "3:Become a patreon\n",
            "4:Logout\n",
            "\n",
            "2\n",
            "\n",
            "Breeds available\n",
            "Name:German shepered\n",
            "Price: 2450 \n",
            "\n",
            "Name:Labrador\n",
            "Price: 1365 \n",
            "\n",
            "Name:Husky\n",
            "Price: 2010 \n",
            "\n",
            "Name:Dober man\n",
            "Price: 2900 \n",
            "\n",
            "Name:Golden retriever\n",
            "Price: 1650 \n",
            "\n",
            "Name:Persian cat\n",
            "Price: 1450 \n",
            "\n",
            "Name:Bengal cat\n",
            "Price: 2000 \n",
            "\n",
            "Name:Siberian cat\n",
            "Price: 1600 \n",
            "\n",
            "Name:Sthynx cat\n",
            "Price: 2300 \n",
            "\n",
            "Name:Bombay cat\n",
            "Price: 1750 \n",
            "\n",
            "Your adoption list: ['Bombay cat']\n",
            "\n",
            "Total price: 1750\n",
            "\n",
            "1:Continue adding\n",
            "2:Go to payment\n",
            "3:Go to home2\n",
            "Enter the UPI IDrajath@oksbi\n",
            "\n",
            "UPI ID verified successfully\n",
            "\n",
            "\n",
            "Enter a valid PIN123456\n",
            "Enter the amount to be paid:1750\n",
            "Payment suscessful !!\n",
            "\n",
            "1:Know your type\n",
            "2:Adopt Now\n",
            "3:Become a patreon\n",
            "4:Logout\n",
            "\n",
            "3\n",
            "\n",
            "Thank you!\n",
            "  We will get back to you for further details\n",
            "\n",
            "1:Know your type\n",
            "2:Adopt Now\n",
            "3:Become a patreon\n",
            "4:Logout\n",
            "\n",
            "4\n",
            "\n",
            "Thank you for spending your precious time!!!\n",
            " We wish to see you again\n",
            "\n",
            "\n",
            "Hello, Do you wish to login or signup?\n",
            "Enter your option\n",
            "1:Register\n",
            "2:Login\n",
            "3:Exit 1\n",
            "Do you wish to signup as admin or user?\n",
            "Enter your option\n",
            "1:User Register\n",
            "2:Admin Register 2\n",
            "Enter your security code:12345\n",
            "Enter your username:rajathadmin\n",
            "Enter your password:rajathadmin\n",
            "You can login here:\n",
            "\n",
            "Enter username:rajathadmin\n",
            "Enter password:rajahadmin\n",
            "Invalid username/password. Please enter again\n",
            "Enter username:rajathadmin\n",
            "Enter password:rajathadmin\n",
            "Login sucessful\n",
            "************************************************************************************************************************************************************************************************\n",
            "     **************************************************************************************************************************************************************************************\n",
            "          ****************************************************************************************************************************************************************************\n",
            "                                                               Hello rajathadmin, Welcome to Paws For You\n",
            "\n",
            "\n",
            "\n",
            "\n",
            "1:Add the details to DB\n",
            "2:Delete the details to DB\n",
            "3:Display Breeds\n",
            "4:Display Sale History\n",
            "5:Exit\n",
            "\n",
            "1\n",
            "Enter the name of the breedRupesh dog\n",
            "Enter the name of the breed10\n",
            "Details added successfully\n",
            "\n",
            "1:Add the details to DB\n",
            "2:Delete the details to DB\n",
            "3:Display Breeds\n",
            "4:Display Sale History\n",
            "5:Exit\n",
            "\n",
            "3\n",
            "               Breed  Price\n",
            "0    German shepered   2450\n",
            "1           Labrador   1365\n",
            "2              Husky   2010\n",
            "3          Dober man   2900\n",
            "4   Golden retriever   1650\n",
            "5        Persian cat   1450\n",
            "6         Bengal cat   2000\n",
            "7       Siberian cat   1600\n",
            "8         Sthynx cat   2300\n",
            "9         Bombay cat   1750\n",
            "10        Rupesh dog     10\n",
            "\n",
            "1:Add the details to DB\n",
            "2:Delete the details to DB\n",
            "3:Display Breeds\n",
            "4:Display Sale History\n",
            "5:Exit\n",
            "\n",
            "2\n",
            "Enter the name of the breedRupesh dog\n",
            "Details deleted successfully\n",
            "\n",
            "1:Add the details to DB\n",
            "2:Delete the details to DB\n",
            "3:Display Breeds\n",
            "4:Display Sale History\n",
            "5:Exit\n",
            "\n",
            "3\n",
            "              Breed  Price\n",
            "0   German shepered   2450\n",
            "1          Labrador   1365\n",
            "2             Husky   2010\n",
            "3         Dober man   2900\n",
            "4  Golden retriever   1650\n",
            "5       Persian cat   1450\n",
            "6        Bengal cat   2000\n",
            "7      Siberian cat   1600\n",
            "8        Sthynx cat   2300\n",
            "9        Bombay cat   1750\n",
            "\n",
            "1:Add the details to DB\n",
            "2:Delete the details to DB\n",
            "3:Display Breeds\n",
            "4:Display Sale History\n",
            "5:Exit\n",
            "\n",
            "4\n",
            "NAME: rajathuser\n",
            "NAME OF THE BREED: ['Bombay cat'] \n",
            "TOTAL AMOUNT PAID:1750\n",
            "**********************************************\n",
            "\n",
            "\n",
            "1:Add the details to DB\n",
            "2:Delete the details to DB\n",
            "3:Display Breeds\n",
            "4:Display Sale History\n",
            "5:Exit\n",
            "\n",
            "5\n"
          ]
        }
      ],
      "source": [
        "def login_reg():\n",
        "  s=input(\"Hello, Do you wish to login or signup?\\nEnter your option\\n1:Register\\n2:Login\\n3:Exit \")\n",
        "  if s=='1':\n",
        "    p=input(\"Do you wish to signup as admin or user?\\nEnter your option\\n1:User Register\\n2:Admin Register \")\n",
        "    if p=='1':\n",
        "      uregister()\n",
        "    elif p=='2':\n",
        "      aregister()\n",
        "    elif p==\"3\":\n",
        "      return \"-1\"\n",
        "    else:\n",
        "      print(\"\\nInvalid Option\\n\") \n",
        "      login_reg()   \n",
        "  elif s=='2':\n",
        "    p=input(\"Do you wish to login as admin or user?\\nEnter your option\\n1:User Login\\n2:Admin login\\n\")\n",
        "    \n",
        "    if p=='1':\n",
        "      ulogin()\n",
        "    elif p=='2':\n",
        "      alogin()\n",
        "    else:\n",
        "      print(\"\\nInvalid Option\\n\") \n",
        "      login_reg() \n",
        "login_reg()"
      ]
    },
    {
      "cell_type": "code",
      "source": [
        ""
      ],
      "metadata": {
        "id": "bZAvXXRE_bvY"
      },
      "execution_count": null,
      "outputs": []
    }
  ],
  "metadata": {
    "colab": {
      "collapsed_sections": [],
      "name": "APP_project.ipynb",
      "provenance": []
    },
    "kernelspec": {
      "display_name": "Python 3",
      "name": "python3"
    },
    "language_info": {
      "name": "python"
    }
  },
  "nbformat": 4,
  "nbformat_minor": 0
}